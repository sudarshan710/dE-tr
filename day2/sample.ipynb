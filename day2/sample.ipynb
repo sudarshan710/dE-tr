{
 "cells": [
  {
   "cell_type": "code",
   "execution_count": 21,
   "id": "220000d0",
   "metadata": {},
   "outputs": [],
   "source": [
    "# pip install pandas"
   ]
  },
  {
   "cell_type": "code",
   "execution_count": 22,
   "id": "b08dadac",
   "metadata": {},
   "outputs": [
    {
     "name": "stdout",
     "output_type": "stream",
     "text": [
      "\n",
      " Access denied. Please log in.\n",
      "\n",
      " Welcome to my dashboard!\n",
      "\n",
      " Access denied. Please log in.\n"
     ]
    }
   ],
   "source": [
    "%run problem.py"
   ]
  },
  {
   "cell_type": "code",
   "execution_count": 23,
   "id": "a6286ad2",
   "metadata": {},
   "outputs": [
    {
     "name": "stdout",
     "output_type": "stream",
     "text": [
      "asdsad\n"
     ]
    }
   ],
   "source": [
    "import pandas as pd\n",
    "\n",
    "\n",
    "print('asdsad')"
   ]
  }
 ],
 "metadata": {
  "kernelspec": {
   "display_name": "Python 3",
   "language": "python",
   "name": "python3"
  },
  "language_info": {
   "codemirror_mode": {
    "name": "ipython",
    "version": 3
   },
   "file_extension": ".py",
   "mimetype": "text/x-python",
   "name": "python",
   "nbconvert_exporter": "python",
   "pygments_lexer": "ipython3",
   "version": "3.13.5"
  }
 },
 "nbformat": 4,
 "nbformat_minor": 5
}
